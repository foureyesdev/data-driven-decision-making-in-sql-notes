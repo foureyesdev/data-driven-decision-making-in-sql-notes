{
 "cells": [
  {
   "cell_type": "markdown",
   "id": "e39f9983",
   "metadata": {},
   "source": []
  }
 ],
 "metadata": {
  "language_info": {
   "name": "python"
  }
 },
 "nbformat": 4,
 "nbformat_minor": 5
}
